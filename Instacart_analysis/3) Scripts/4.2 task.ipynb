{
 "cells": [
  {
   "cell_type": "code",
   "execution_count": 2,
   "id": "b33e3cd5",
   "metadata": {},
   "outputs": [],
   "source": [
    "# Import libraries\n",
    "import pandas as pd\n",
    "import numpy as np\n",
    "import os"
   ]
  },
  {
   "cell_type": "code",
   "execution_count": 4,
   "id": "4a41a0c7",
   "metadata": {},
   "outputs": [],
   "source": [
    "## Working with Data types"
   ]
  },
  {
   "cell_type": "code",
   "execution_count": 9,
   "id": "67481a11",
   "metadata": {},
   "outputs": [
    {
     "data": {
      "text/plain": [
       "100"
      ]
     },
     "execution_count": 9,
     "metadata": {},
     "output_type": "execute_result"
    }
   ],
   "source": [
    "100"
   ]
  },
  {
   "cell_type": "code",
   "execution_count": 10,
   "id": "556d012e",
   "metadata": {},
   "outputs": [
    {
     "data": {
      "text/plain": [
       "100"
      ]
     },
     "execution_count": 10,
     "metadata": {},
     "output_type": "execute_result"
    }
   ],
   "source": [
    "99+1"
   ]
  },
  {
   "cell_type": "code",
   "execution_count": 11,
   "id": "15f4437b",
   "metadata": {},
   "outputs": [
    {
     "data": {
      "text/plain": [
       "100"
      ]
     },
     "execution_count": 11,
     "metadata": {},
     "output_type": "execute_result"
    }
   ],
   "source": [
    "50+50"
   ]
  },
  {
   "cell_type": "code",
   "execution_count": 12,
   "id": "407d1983",
   "metadata": {},
   "outputs": [
    {
     "data": {
      "text/plain": [
       "100"
      ]
     },
     "execution_count": 12,
     "metadata": {},
     "output_type": "execute_result"
    }
   ],
   "source": [
    "150-50"
   ]
  },
  {
   "cell_type": "code",
   "execution_count": 23,
   "id": "660f2399",
   "metadata": {},
   "outputs": [],
   "source": [
    "x=2.345"
   ]
  },
  {
   "cell_type": "code",
   "execution_count": 24,
   "id": "479ed0fe",
   "metadata": {},
   "outputs": [],
   "source": [
    "y=4.823"
   ]
  },
  {
   "cell_type": "code",
   "execution_count": 25,
   "id": "e7b5fb51",
   "metadata": {},
   "outputs": [
    {
     "data": {
      "text/plain": [
       "2.056716417910448"
      ]
     },
     "execution_count": 25,
     "metadata": {},
     "output_type": "execute_result"
    }
   ],
   "source": [
    "y/x"
   ]
  },
  {
   "cell_type": "code",
   "execution_count": 27,
   "id": "ba224953",
   "metadata": {},
   "outputs": [],
   "source": [
    "a='Hello, '"
   ]
  },
  {
   "cell_type": "code",
   "execution_count": 29,
   "id": "28adf172",
   "metadata": {},
   "outputs": [],
   "source": [
    "b='Smriti'"
   ]
  },
  {
   "cell_type": "code",
   "execution_count": 31,
   "id": "4078f50d",
   "metadata": {},
   "outputs": [
    {
     "data": {
      "text/plain": [
       "'Hello,Smriti'"
      ]
     },
     "execution_count": 31,
     "metadata": {},
     "output_type": "execute_result"
    }
   ],
   "source": [
    "a+b"
   ]
  },
  {
   "cell_type": "code",
   "execution_count": 40,
   "id": "ca940343",
   "metadata": {},
   "outputs": [],
   "source": [
    "c='Hey, rima. '"
   ]
  },
  {
   "cell_type": "code",
   "execution_count": 41,
   "id": "92d36a74",
   "metadata": {},
   "outputs": [],
   "source": [
    "d='Hi, rebecca. '"
   ]
  },
  {
   "cell_type": "code",
   "execution_count": 42,
   "id": "eb275c2a",
   "metadata": {},
   "outputs": [],
   "source": [
    "e='Lets go for dinner tonight. '"
   ]
  },
  {
   "cell_type": "code",
   "execution_count": 38,
   "id": "6eb774cb",
   "metadata": {},
   "outputs": [],
   "source": [
    "f='Yes,sure.'"
   ]
  },
  {
   "cell_type": "code",
   "execution_count": 43,
   "id": "3b0990f2",
   "metadata": {},
   "outputs": [
    {
     "data": {
      "text/plain": [
       "'Hey, rima. Hi, rebecca. Lets go for dinner tonight. Yes,sure.'"
      ]
     },
     "execution_count": 43,
     "metadata": {},
     "output_type": "execute_result"
    }
   ],
   "source": [
    "c+d+e+f"
   ]
  }
 ],
 "metadata": {
  "kernelspec": {
   "display_name": "Python 3 (ipykernel)",
   "language": "python",
   "name": "python3"
  },
  "language_info": {
   "codemirror_mode": {
    "name": "ipython",
    "version": 3
   },
   "file_extension": ".py",
   "mimetype": "text/x-python",
   "name": "python",
   "nbconvert_exporter": "python",
   "pygments_lexer": "ipython3",
   "version": "3.11.5"
  }
 },
 "nbformat": 4,
 "nbformat_minor": 5
}
