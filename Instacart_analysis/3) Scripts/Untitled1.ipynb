{
 "cells": [
  {
   "cell_type": "code",
   "execution_count": 3,
   "id": "9f06267e",
   "metadata": {},
   "outputs": [],
   "source": [
    "# import libraries\n",
    "import pandas as pd\n",
    "import numpy as np\n",
    "import os"
   ]
  },
  {
   "cell_type": "code",
   "execution_count": 4,
   "id": "d4fb4f5b",
   "metadata": {},
   "outputs": [],
   "source": [
    "# Importing data set\\n\",\n",
    "path = r'C:\\Users\\Home\\Documents\\Inscartbasket analysis'"
   ]
  },
  {
   "cell_type": "code",
   "execution_count": 5,
   "id": "4fe39b51",
   "metadata": {},
   "outputs": [
    {
     "ename": "SyntaxError",
     "evalue": "unterminated string literal (detected at line 2) (2108643589.py, line 2)",
     "output_type": "error",
     "traceback": [
      "\u001b[1;36m  Cell \u001b[1;32mIn[5], line 2\u001b[1;36m\u001b[0m\n\u001b[1;33m    df_ords = pd.read_csv(os.path.join(path, '2) Data', 'Prepared data', 'orders_checked.csv'), index_col = False)\"\u001b[0m\n\u001b[1;37m                                                                                                                  ^\u001b[0m\n\u001b[1;31mSyntaxError\u001b[0m\u001b[1;31m:\u001b[0m unterminated string literal (detected at line 2)\n"
     ]
    }
   ],
   "source": [
    "# Importing data set orders_checked\\n\",\n",
    "df_ords = pd.read_csv(os.path.join(path, '2) Data', 'Prepared data', 'orders_checked.csv'), index_col = False)\""
   ]
  }
 ],
 "metadata": {
  "kernelspec": {
   "display_name": "Python 3 (ipykernel)",
   "language": "python",
   "name": "python3"
  },
  "language_info": {
   "codemirror_mode": {
    "name": "ipython",
    "version": 3
   },
   "file_extension": ".py",
   "mimetype": "text/x-python",
   "name": "python",
   "nbconvert_exporter": "python",
   "pygments_lexer": "ipython3",
   "version": "3.11.5"
  }
 },
 "nbformat": 4,
 "nbformat_minor": 5
}
